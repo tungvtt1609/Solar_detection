{
 "cells": [
  {
   "cell_type": "markdown",
   "metadata": {},
   "source": [
    "### Load the U-Net model and train it on our data!"
   ]
  },
  {
   "cell_type": "code",
   "execution_count": 1,
   "metadata": {},
   "outputs": [
    {
     "name": "stdout",
     "output_type": "stream",
     "text": [
      "Collecting imgaug\n",
      "  Downloading imgaug-0.4.0-py2.py3-none-any.whl (948 kB)\n",
      "     |████████████████████████████████| 948 kB 802 kB/s            \n",
      "\u001b[?25hRequirement already satisfied: imageio in /home/jun/anaconda3/envs/solar/lib/python3.6/site-packages (from imgaug) (2.13.1)\n",
      "Requirement already satisfied: Shapely in /home/jun/anaconda3/envs/solar/lib/python3.6/site-packages (from imgaug) (1.8.0)\n",
      "Requirement already satisfied: Pillow in /home/jun/anaconda3/envs/solar/lib/python3.6/site-packages (from imgaug) (8.4.0)\n",
      "Requirement already satisfied: six in /home/jun/anaconda3/envs/solar/lib/python3.6/site-packages (from imgaug) (1.16.0)\n",
      "Requirement already satisfied: matplotlib in /home/jun/anaconda3/envs/solar/lib/python3.6/site-packages (from imgaug) (3.3.4)\n",
      "Requirement already satisfied: scikit-image>=0.14.2 in /home/jun/anaconda3/envs/solar/lib/python3.6/site-packages (from imgaug) (0.17.2)\n",
      "Requirement already satisfied: numpy>=1.15 in /home/jun/anaconda3/envs/solar/lib/python3.6/site-packages (from imgaug) (1.19.5)\n",
      "Requirement already satisfied: scipy in /home/jun/anaconda3/envs/solar/lib/python3.6/site-packages (from imgaug) (1.5.4)\n",
      "Requirement already satisfied: opencv-python in /home/jun/anaconda3/envs/solar/lib/python3.6/site-packages (from imgaug) (4.5.4.60)\n",
      "Requirement already satisfied: PyWavelets>=1.1.1 in /home/jun/anaconda3/envs/solar/lib/python3.6/site-packages (from scikit-image>=0.14.2->imgaug) (1.1.1)\n",
      "Requirement already satisfied: networkx>=2.0 in /home/jun/anaconda3/envs/solar/lib/python3.6/site-packages (from scikit-image>=0.14.2->imgaug) (2.5.1)\n",
      "Requirement already satisfied: tifffile>=2019.7.26 in /home/jun/anaconda3/envs/solar/lib/python3.6/site-packages (from scikit-image>=0.14.2->imgaug) (2020.9.3)\n",
      "Requirement already satisfied: kiwisolver>=1.0.1 in /home/jun/anaconda3/envs/solar/lib/python3.6/site-packages (from matplotlib->imgaug) (1.3.1)\n",
      "Requirement already satisfied: pyparsing!=2.0.4,!=2.1.2,!=2.1.6,>=2.0.3 in /home/jun/anaconda3/envs/solar/lib/python3.6/site-packages (from matplotlib->imgaug) (3.0.6)\n",
      "Requirement already satisfied: cycler>=0.10 in /home/jun/anaconda3/envs/solar/lib/python3.6/site-packages (from matplotlib->imgaug) (0.11.0)\n",
      "Requirement already satisfied: python-dateutil>=2.1 in /home/jun/anaconda3/envs/solar/lib/python3.6/site-packages (from matplotlib->imgaug) (2.8.2)\n",
      "Requirement already satisfied: decorator<5,>=4.3 in /home/jun/anaconda3/envs/solar/lib/python3.6/site-packages (from networkx>=2.0->scikit-image>=0.14.2->imgaug) (4.4.2)\n",
      "Installing collected packages: imgaug\n",
      "Successfully installed imgaug-0.4.0\n"
     ]
    }
   ],
   "source": [
    "!pip install imgaug"
   ]
  },
  {
   "cell_type": "code",
   "execution_count": 18,
   "metadata": {},
   "outputs": [],
   "source": [
    "import sys\n",
    "import os\n",
    "\n",
    "# Add unet model folder\n",
    "sys.path.append(\"unet/\")\n",
    "\n",
    "import config\n",
    "from model import get_vgg_7conv\n",
    "\n",
    "from imgaug import augmenters as iaa\n",
    "from keras.callbacks import ModelCheckpoint, TensorBoard, ReduceLROnPlateau\n",
    "from tensorflow.keras.optimizers import Adam\n",
    "import glob\n",
    "from PIL import Image\n",
    "import numpy as np\n",
    "\n",
    "\n",
    "## Uncomment this if you want to force tensorflow to use your CPUs instead (useful if you don't have a beefy GPU)\n",
    "#os.environ['CUDA_VISIBLE_DEVICES'] = ''"
   ]
  },
  {
   "cell_type": "code",
   "execution_count": 19,
   "metadata": {},
   "outputs": [],
   "source": [
    "num_training_images = len(glob.glob(config.TRAIN_IMAGE_FOLDER + config.SAT_IMAGE_FOLDER + \"/0/*.png\"))\n",
    "num_testing_images = len(glob.glob(config.TEST_IMAGE_FOLDER + config.SAT_IMAGE_FOLDER + \"/0/*.png\"))"
   ]
  },
  {
   "cell_type": "code",
   "execution_count": 20,
   "metadata": {},
   "outputs": [],
   "source": [
    "if num_testing_images == 0 or num_training_images == 0:\n",
    "    print(\"WARNING: no images detected\")"
   ]
  },
  {
   "cell_type": "code",
   "execution_count": 21,
   "metadata": {},
   "outputs": [],
   "source": [
    "def get_image_data(num_images_to_get=32, normalise=True, image_folder = config.TRAIN_IMAGE_FOLDER, augment=False):\n",
    "    # Get list of files\n",
    "    satellite_images = glob.glob(image_folder + config.SAT_IMAGE_FOLDER + \"/0/*.png\")\n",
    "    if len(satellite_images) == 0:\n",
    "        raise FileNotFoundError(image_folder + config.SAT_IMAGE_FOLDER + \" doesn't contain any images!\")\n",
    "    if normalise:\n",
    "        # first provide a sample of images for featurewise normalisation\n",
    "        X_sample, y_sample = next(get_image_data(num_images_to_get=1000, normalise=False))\n",
    "\n",
    "        mean_sat_color = np.mean(X_sample.reshape(X_sample.shape[0]*X_sample.shape[1]*X_sample.shape[2], 3), axis=0)\n",
    "        variance_sat_color = np.var(X_sample.reshape(X_sample.shape[0]*X_sample.shape[1]*X_sample.shape[2], 3), axis=0)\n",
    "\n",
    "        #mean_mask_color = np.mean(y_sample.reshape(y_sample.shape[0]*y_sample.shape[1]*y_sample.shape[2], 1), axis=0)\n",
    "        #variance_mask_color = np.var(y_sample.reshape(y_sample.shape[0]*y_sample.shape[1]*y_sample.shape[2], 1), axis=0)\n",
    "        \n",
    "        del X_sample\n",
    "        del y_sample\n",
    "\n",
    "    while True:\n",
    "        np.random.shuffle(satellite_images)\n",
    "\n",
    "        # Preallocate array of image stacks\n",
    "        satellite_stacked = np.zeros((num_images_to_get, 224, 224, 3), dtype=np.float32)\n",
    "        mask_stacked = np.zeros((num_images_to_get, 224, 224, 1), dtype=np.float32)\n",
    "\n",
    "        for i, image in enumerate(satellite_images[:num_images_to_get]):\n",
    "            image = image.split(\"/\")[-1]\n",
    "            satellite_stacked[i] = np.array(Image.open(image_folder + config.SAT_IMAGE_FOLDER + \"/0/\" + image))\n",
    "            mask_stacked[i] = np.array(Image.open(image_folder + config.MASK_IMAGE_FOLDER + \"/0/\" + image)).reshape(224,224, 1)/255.0\n",
    "\n",
    "        if augment:\n",
    "            augmenters = iaa.Sequential([\n",
    "                iaa.Add((-3, 3), per_channel=0.5),\n",
    "                iaa.Sharpen(alpha=0.05),\n",
    "                iaa.GaussianBlur(sigma=(0, 0.5)),\n",
    "                iaa.AdditiveGaussianNoise(scale=(0,0.01*255)),\n",
    "            ])\n",
    "            satellite_stacked = augmenters.augment_images(satellite_stacked)\n",
    "        if normalise:\n",
    "            satellite_stacked = (satellite_stacked - mean_sat_color)/np.sqrt(variance_sat_color)\n",
    "            #mask_stacked = (mask_stacked - mean_mask_color)/np.sqrt(variance_mask_color)\n",
    "        yield satellite_stacked, mask_stacked"
   ]
  },
  {
   "cell_type": "code",
   "execution_count": 22,
   "metadata": {},
   "outputs": [],
   "source": [
    "from keras import backend as K\n",
    "\n",
    "def dice_coef(y_true, y_pred):\n",
    "    y_true_f = K.flatten(y_true)\n",
    "    y_pred_f = K.flatten(y_pred)\n",
    "    intersection = K.sum(y_true_f * y_pred_f)\n",
    "    return (2.0 * intersection + 1.0) / (K.sum(y_true_f) + K.sum(y_pred_f) + 1.0)\n",
    "\n",
    "def dice_coef_loss(y_true, y_pred):\n",
    "    return -dice_coef(y_true, y_pred)"
   ]
  },
  {
   "cell_type": "code",
   "execution_count": 23,
   "metadata": {},
   "outputs": [
    {
     "name": "stdout",
     "output_type": "stream",
     "text": [
      "WARNING:tensorflow:`batch_size` is no longer needed in the `TensorBoard` Callback and will be ignored in TensorFlow 2.0.\n"
     ]
    }
   ],
   "source": [
    "os.makedirs(config.WEIGHTS_FOLDER, exist_ok=True)\n",
    "model_checkpoint = ModelCheckpoint(config.WEIGHTS_FOLDER + 'intermediate_model_with_aug.h5', monitor='dice_coef', save_best_only=True)\n",
    "tb_callback = TensorBoard(log_dir=config.LOGS_FOLDER, histogram_freq=0, batch_size=config.BATCH_SIZE,\n",
    "                          write_graph=True, write_grads=False, write_images=True,\n",
    "                          embeddings_freq=0, embeddings_layer_names=None, embeddings_metadata=None)"
   ]
  },
  {
   "cell_type": "code",
   "execution_count": 24,
   "metadata": {},
   "outputs": [],
   "source": [
    "import metrics\n",
    "\n",
    "model = get_vgg_7conv(config.ISZ, config.N_CHANNELS, config.NUM_CLASSES)\n",
    "# model.load_weights(config.WEIGHTS_FOLDER + \"model_with_aug.h5\")\n",
    "model.compile(\n",
    "    optimizer=Adam(),\n",
    "    loss=dice_coef_loss,\n",
    "    metrics=[\n",
    "        metrics.jaccard_coef, metrics.jacard_coef_flat,\n",
    "        metrics.jaccard_coef_int, metrics.dice_coef, 'accuracy'\n",
    "    ])"
   ]
  },
  {
   "cell_type": "code",
   "execution_count": 25,
   "metadata": {
    "scrolled": true
   },
   "outputs": [
    {
     "name": "stdout",
     "output_type": "stream",
     "text": [
      "WARNING:tensorflow:`epsilon` argument is deprecated and will be removed, use `min_delta` instead.\n"
     ]
    },
    {
     "name": "stderr",
     "output_type": "stream",
     "text": [
      "/home/jun/anaconda3/envs/solar/lib/python3.6/site-packages/keras/engine/training.py:1972: UserWarning: `Model.fit_generator` is deprecated and will be removed in a future version. Please use `Model.fit`, which supports generators.\n",
      "  warnings.warn('`Model.fit_generator` is deprecated and '\n"
     ]
    },
    {
     "name": "stdout",
     "output_type": "stream",
     "text": [
      "1850/1850 [==============================] - 29170s 16s/step - loss: -0.0289 - jaccard_coef: 0.0147 - jacard_coef_flat: 0.0147 - jaccard_coef_int: 0.0147 - dice_coef: 0.0289 - accuracy: 0.3944 - val_loss: -0.0312 - val_jaccard_coef: 0.0159 - val_jacard_coef_flat: 0.0159 - val_jaccard_coef_int: 0.0159 - val_dice_coef: 0.0312 - val_accuracy: 0.4220\n"
     ]
    },
    {
     "data": {
      "text/plain": [
       "<keras.callbacks.History at 0x7f3e5066eda0>"
      ]
     },
     "execution_count": 25,
     "metadata": {},
     "output_type": "execute_result"
    }
   ],
   "source": [
    "model.fit_generator(\n",
    "    get_image_data(num_images_to_get=config.BATCH_SIZE, image_folder=config.TRAIN_IMAGE_FOLDER, augment=True),\n",
    "    epochs=1, verbose=True,\n",
    "    steps_per_epoch=2*int(num_training_images/config.BATCH_SIZE)//50*50,\n",
    "    validation_data=get_image_data(num_images_to_get=config.BATCH_SIZE, image_folder=config.TEST_IMAGE_FOLDER),\n",
    "    validation_steps=int(num_testing_images/config.BATCH_SIZE)//50*50,\n",
    "    callbacks=[model_checkpoint,\n",
    "               tb_callback,\n",
    "               ReduceLROnPlateau(monitor='val_dice_coef', factor=0.5, patience=5, min_lr=1e-9, epsilon=0.00001, verbose=1, mode='max')])"
   ]
  },
  {
   "cell_type": "code",
   "execution_count": 17,
   "metadata": {},
   "outputs": [],
   "source": [
    "model.save(config.WEIGHTS_FOLDER + \"/model_with_aug.h5\")"
   ]
  },
  {
   "cell_type": "code",
   "execution_count": null,
   "metadata": {},
   "outputs": [],
   "source": []
  }
 ],
 "metadata": {
  "jupytext_formats": "ipynb,py",
  "kernelspec": {
   "display_name": "Python 3 (ipykernel)",
   "language": "python",
   "name": "python3"
  },
  "language_info": {
   "codemirror_mode": {
    "name": "ipython",
    "version": 3
   },
   "file_extension": ".py",
   "mimetype": "text/x-python",
   "name": "python",
   "nbconvert_exporter": "python",
   "pygments_lexer": "ipython3",
   "version": "3.6.13"
  }
 },
 "nbformat": 4,
 "nbformat_minor": 2
}
