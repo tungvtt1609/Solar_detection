{
 "cells": [
  {
   "cell_type": "code",
   "execution_count": 3,
   "id": "4d2f11e8",
   "metadata": {},
   "outputs": [
    {
     "name": "stdout",
     "output_type": "stream",
     "text": [
      "Collecting numpy==1.19.5\n",
      "  Using cached numpy-1.19.5-cp36-cp36m-manylinux2010_x86_64.whl (14.8 MB)\n",
      "Installing collected packages: numpy\n",
      "  Attempting uninstall: numpy\n",
      "    Found existing installation: numpy 1.17.4\n",
      "    Uninstalling numpy-1.17.4:\n",
      "      Successfully uninstalled numpy-1.17.4\n",
      "\u001b[31mERROR: pip's dependency resolver does not currently take into account all the packages that are installed. This behaviour is the source of the following dependency conflicts.\n",
      "tensorflow 2.6.2 requires six~=1.15.0, but you have six 1.16.0 which is incompatible.\n",
      "tensorflow 2.6.2 requires typing-extensions~=3.7.4, but you have typing-extensions 4.0.1 which is incompatible.\u001b[0m\n",
      "Successfully installed numpy-1.19.5\n"
     ]
    }
   ],
   "source": [
    "!pip install numpy==1.19.5"
   ]
  },
  {
   "cell_type": "code",
   "execution_count": 5,
   "id": "4881217a",
   "metadata": {},
   "outputs": [
    {
     "name": "stdout",
     "output_type": "stream",
     "text": [
      "2.6.2\n"
     ]
    }
   ],
   "source": [
    "import tensorflow as tf\n",
    "print(tf.__version__)"
   ]
  },
  {
   "cell_type": "code",
   "execution_count": 7,
   "id": "a7ddd5d6",
   "metadata": {},
   "outputs": [
    {
     "name": "stdout",
     "output_type": "stream",
     "text": [
      "Sat Dec  4 13:32:25 2021       \n",
      "+-----------------------------------------------------------------------------+\n",
      "| NVIDIA-SMI 460.106.00   Driver Version: 460.106.00   CUDA Version: 11.2     |\n",
      "|-------------------------------+----------------------+----------------------+\n",
      "| GPU  Name        Persistence-M| Bus-Id        Disp.A | Volatile Uncorr. ECC |\n",
      "| Fan  Temp  Perf  Pwr:Usage/Cap|         Memory-Usage | GPU-Util  Compute M. |\n",
      "|                               |                      |               MIG M. |\n",
      "|===============================+======================+======================|\n",
      "|   0  GeForce GTX 1080    Off  | 00000000:03:00.0  On |                  N/A |\n",
      "|  0%   57C    P2    48W / 240W |    646MiB /  8111MiB |      0%      Default |\n",
      "|                               |                      |                  N/A |\n",
      "+-------------------------------+----------------------+----------------------+\n",
      "                                                                               \n",
      "+-----------------------------------------------------------------------------+\n",
      "| Processes:                                                                  |\n",
      "|  GPU   GI   CI        PID   Type   Process name                  GPU Memory |\n",
      "|        ID   ID                                                   Usage      |\n",
      "|=============================================================================|\n",
      "|    0   N/A  N/A      1185      G   /usr/lib/xorg/Xorg                 59MiB |\n",
      "|    0   N/A  N/A      1756      G   /usr/lib/xorg/Xorg                297MiB |\n",
      "|    0   N/A  N/A      1890      G   /usr/bin/gnome-shell               58MiB |\n",
      "|    0   N/A  N/A      2631      G   ...AAAAAAAAA= --shared-files       72MiB |\n",
      "|    0   N/A  N/A     36181      G   ...mviewer/tv_bin/TeamViewer       21MiB |\n",
      "|    0   N/A  N/A     47994      G   ...AAAAAAAAA= --shared-files       12MiB |\n",
      "|    0   N/A  N/A    112461      G   gnome-control-center                1MiB |\n",
      "|    0   N/A  N/A    116956      C   ...da3/envs/solar/bin/python      103MiB |\n",
      "+-----------------------------------------------------------------------------+\n"
     ]
    }
   ],
   "source": [
    "from tensorflow.python.client import device_lib\n",
    "device_lib.list_local_devices()\n",
    "!nvidia-smi"
   ]
  },
  {
   "cell_type": "code",
   "execution_count": 8,
   "id": "33f74492",
   "metadata": {},
   "outputs": [
    {
     "name": "stdout",
     "output_type": "stream",
     "text": [
      "/home/jun\n",
      "Cloning into 'models'...\n",
      "remote: Enumerating objects: 67735, done.\u001b[K\n",
      "remote: Counting objects: 100% (59/59), done.\u001b[K\n",
      "remote: Compressing objects: 100% (38/38), done.\u001b[K\n",
      "remote: Total 67735 (delta 26), reused 50 (delta 21), pack-reused 67676\u001b[K\n",
      "Receiving objects: 100% (67735/67735), 576.33 MiB | 3.50 MiB/s, done.\n",
      "Resolving deltas: 100% (47520/47520), done.\n",
      "E: Could not open lock file /var/lib/dpkg/lock-frontend - open (13: Permission denied)\n",
      "E: Unable to acquire the dpkg frontend lock (/var/lib/dpkg/lock-frontend), are you root?\n",
      "Collecting Cython\n",
      "  Downloading Cython-0.29.24-cp36-cp36m-manylinux1_x86_64.whl (2.0 MB)\n",
      "     |████████████████████████████████| 2.0 MB 795 kB/s            \n",
      "\u001b[?25hCollecting contextlib2\n",
      "  Downloading contextlib2-21.6.0-py2.py3-none-any.whl (13 kB)\n",
      "Requirement already satisfied: pillow in ./anaconda3/envs/solar/lib/python3.6/site-packages (8.4.0)\n",
      "Requirement already satisfied: lxml in ./anaconda3/envs/solar/lib/python3.6/site-packages (4.6.4)\n",
      "Requirement already satisfied: matplotlib in ./anaconda3/envs/solar/lib/python3.6/site-packages (3.3.4)\n",
      "Collecting PyDrive\n",
      "  Downloading PyDrive-1.3.1.tar.gz (987 kB)\n",
      "     |████████████████████████████████| 987 kB 13.0 MB/s            \n",
      "\u001b[?25h  Preparing metadata (setup.py) ... \u001b[?25ldone\n",
      "\u001b[?25hRequirement already satisfied: kiwisolver>=1.0.1 in ./anaconda3/envs/solar/lib/python3.6/site-packages (from matplotlib) (1.3.1)\n",
      "Requirement already satisfied: numpy>=1.15 in ./anaconda3/envs/solar/lib/python3.6/site-packages (from matplotlib) (1.19.5)\n",
      "Requirement already satisfied: cycler>=0.10 in ./anaconda3/envs/solar/lib/python3.6/site-packages (from matplotlib) (0.11.0)\n",
      "Requirement already satisfied: pyparsing!=2.0.4,!=2.1.2,!=2.1.6,>=2.0.3 in ./anaconda3/envs/solar/lib/python3.6/site-packages (from matplotlib) (3.0.6)\n",
      "Requirement already satisfied: python-dateutil>=2.1 in ./anaconda3/envs/solar/lib/python3.6/site-packages (from matplotlib) (2.8.2)\n",
      "Collecting google-api-python-client>=1.2\n",
      "  Downloading google_api_python_client-2.32.0-py2.py3-none-any.whl (7.8 MB)\n",
      "     |████████████████████████████████| 7.8 MB 285 kB/s             \n",
      "\u001b[?25hCollecting oauth2client>=4.0.0\n",
      "  Downloading oauth2client-4.1.3-py2.py3-none-any.whl (98 kB)\n",
      "     |████████████████████████████████| 98 kB 1.1 MB/s             \n",
      "\u001b[?25hRequirement already satisfied: PyYAML>=3.0 in ./anaconda3/envs/solar/lib/python3.6/site-packages (from PyDrive) (6.0)\n",
      "Collecting google-api-core<3.0.0dev,>=1.21.0\n",
      "  Downloading google_api_core-2.2.2-py2.py3-none-any.whl (95 kB)\n",
      "     |████████████████████████████████| 95 kB 884 kB/s             \n",
      "\u001b[?25hCollecting google-auth-httplib2>=0.1.0\n",
      "  Downloading google_auth_httplib2-0.1.0-py2.py3-none-any.whl (9.3 kB)\n",
      "Collecting httplib2<1dev,>=0.15.0\n",
      "  Downloading httplib2-0.20.2-py3-none-any.whl (96 kB)\n",
      "     |████████████████████████████████| 96 kB 1.2 MB/s             \n",
      "\u001b[?25hCollecting uritemplate<5,>=3.0.0\n",
      "  Downloading uritemplate-4.1.1-py2.py3-none-any.whl (10 kB)\n",
      "Requirement already satisfied: google-auth<3.0.0dev,>=1.16.0 in ./anaconda3/envs/solar/lib/python3.6/site-packages (from google-api-python-client>=1.2->PyDrive) (1.35.0)\n",
      "Requirement already satisfied: pyasn1-modules>=0.0.5 in ./anaconda3/envs/solar/lib/python3.6/site-packages (from oauth2client>=4.0.0->PyDrive) (0.2.8)\n",
      "Requirement already satisfied: six>=1.6.1 in ./anaconda3/envs/solar/lib/python3.6/site-packages (from oauth2client>=4.0.0->PyDrive) (1.16.0)\n",
      "Requirement already satisfied: pyasn1>=0.1.7 in ./anaconda3/envs/solar/lib/python3.6/site-packages (from oauth2client>=4.0.0->PyDrive) (0.4.8)\n",
      "Requirement already satisfied: rsa>=3.1.4 in ./anaconda3/envs/solar/lib/python3.6/site-packages (from oauth2client>=4.0.0->PyDrive) (4.8)\n",
      "Requirement already satisfied: protobuf>=3.12.0 in ./anaconda3/envs/solar/lib/python3.6/site-packages (from google-api-core<3.0.0dev,>=1.21.0->google-api-python-client>=1.2->PyDrive) (3.19.1)\n",
      "Requirement already satisfied: requests<3.0.0dev,>=2.18.0 in ./anaconda3/envs/solar/lib/python3.6/site-packages (from google-api-core<3.0.0dev,>=1.21.0->google-api-python-client>=1.2->PyDrive) (2.26.0)\n",
      "Collecting googleapis-common-protos<2.0dev,>=1.52.0\n",
      "  Downloading googleapis_common_protos-1.53.0-py2.py3-none-any.whl (198 kB)\n",
      "     |████████████████████████████████| 198 kB 13.0 MB/s            \n",
      "\u001b[?25hRequirement already satisfied: setuptools>=40.3.0 in ./anaconda3/envs/solar/lib/python3.6/site-packages (from google-api-core<3.0.0dev,>=1.21.0->google-api-python-client>=1.2->PyDrive) (58.0.4)\n",
      "Requirement already satisfied: cachetools<5.0,>=2.0.0 in ./anaconda3/envs/solar/lib/python3.6/site-packages (from google-auth<3.0.0dev,>=1.16.0->google-api-python-client>=1.2->PyDrive) (4.2.4)\n",
      "Requirement already satisfied: urllib3<1.27,>=1.21.1 in ./anaconda3/envs/solar/lib/python3.6/site-packages (from requests<3.0.0dev,>=2.18.0->google-api-core<3.0.0dev,>=1.21.0->google-api-python-client>=1.2->PyDrive) (1.26.7)\n",
      "Requirement already satisfied: certifi>=2017.4.17 in ./anaconda3/envs/solar/lib/python3.6/site-packages (from requests<3.0.0dev,>=2.18.0->google-api-core<3.0.0dev,>=1.21.0->google-api-python-client>=1.2->PyDrive) (2020.6.20)\n",
      "Requirement already satisfied: charset-normalizer~=2.0.0 in ./anaconda3/envs/solar/lib/python3.6/site-packages (from requests<3.0.0dev,>=2.18.0->google-api-core<3.0.0dev,>=1.21.0->google-api-python-client>=1.2->PyDrive) (2.0.8)\n",
      "Requirement already satisfied: idna<4,>=2.5 in ./anaconda3/envs/solar/lib/python3.6/site-packages (from requests<3.0.0dev,>=2.18.0->google-api-core<3.0.0dev,>=1.21.0->google-api-python-client>=1.2->PyDrive) (3.3)\n",
      "Building wheels for collected packages: PyDrive\n",
      "  Building wheel for PyDrive (setup.py) ... \u001b[?25ldone\n",
      "\u001b[?25h  Created wheel for PyDrive: filename=PyDrive-1.3.1-py3-none-any.whl size=27453 sha256=b94a03a82f08e9f383749e638bdea9378dcd583828b3d61a788d6046e220c032\n",
      "  Stored in directory: /home/jun/.cache/pip/wheels/dd/8f/dd/be434b75e07ab06eaa16cbaf7d3e03d8ad68c12929ec3022a4\n",
      "Successfully built PyDrive\n",
      "Installing collected packages: httplib2, googleapis-common-protos, uritemplate, google-auth-httplib2, google-api-core, oauth2client, google-api-python-client, PyDrive, Cython, contextlib2\n",
      "Successfully installed Cython-0.29.24 PyDrive-1.3.1 contextlib2-21.6.0 google-api-core-2.2.2 google-api-python-client-2.32.0 google-auth-httplib2-0.1.0 googleapis-common-protos-1.53.0 httplib2-0.20.2 oauth2client-4.1.3 uritemplate-4.1.1\n",
      "Collecting pycocotools\n",
      "  Downloading pycocotools-2.0.3.tar.gz (106 kB)\n",
      "     |████████████████████████████████| 106 kB 811 kB/s            \n",
      "\u001b[?25h  Preparing metadata (setup.py) ... \u001b[?25ldone\n",
      "\u001b[?25hRequirement already satisfied: setuptools>=18.0 in ./anaconda3/envs/solar/lib/python3.6/site-packages (from pycocotools) (58.0.4)\n",
      "Requirement already satisfied: cython>=0.27.3 in ./anaconda3/envs/solar/lib/python3.6/site-packages (from pycocotools) (0.29.24)\n",
      "Requirement already satisfied: matplotlib>=2.1.0 in ./anaconda3/envs/solar/lib/python3.6/site-packages (from pycocotools) (3.3.4)\n",
      "Requirement already satisfied: python-dateutil>=2.1 in ./anaconda3/envs/solar/lib/python3.6/site-packages (from matplotlib>=2.1.0->pycocotools) (2.8.2)\n",
      "Requirement already satisfied: numpy>=1.15 in ./anaconda3/envs/solar/lib/python3.6/site-packages (from matplotlib>=2.1.0->pycocotools) (1.19.5)\n",
      "Requirement already satisfied: pyparsing!=2.0.4,!=2.1.2,!=2.1.6,>=2.0.3 in ./anaconda3/envs/solar/lib/python3.6/site-packages (from matplotlib>=2.1.0->pycocotools) (3.0.6)\n",
      "Requirement already satisfied: cycler>=0.10 in ./anaconda3/envs/solar/lib/python3.6/site-packages (from matplotlib>=2.1.0->pycocotools) (0.11.0)\n",
      "Requirement already satisfied: pillow>=6.2.0 in ./anaconda3/envs/solar/lib/python3.6/site-packages (from matplotlib>=2.1.0->pycocotools) (8.4.0)\n",
      "Requirement already satisfied: kiwisolver>=1.0.1 in ./anaconda3/envs/solar/lib/python3.6/site-packages (from matplotlib>=2.1.0->pycocotools) (1.3.1)\n",
      "Requirement already satisfied: six>=1.5 in ./anaconda3/envs/solar/lib/python3.6/site-packages (from python-dateutil>=2.1->matplotlib>=2.1.0->pycocotools) (1.16.0)\n",
      "Building wheels for collected packages: pycocotools\n",
      "  Building wheel for pycocotools (setup.py) ... \u001b[?25ldone\n",
      "\u001b[?25h  Created wheel for pycocotools: filename=pycocotools-2.0.3-cp36-cp36m-linux_x86_64.whl size=372876 sha256=b674f9b1d713fb975a052a0664d1582e75886213825e0469ce30c5ad93790561\n",
      "  Stored in directory: /home/jun/.cache/pip/wheels/af/2e/64/1c2780138475c28ca8649d218b6f3ddb5a7dadb41f894002bd\n",
      "Successfully built pycocotools\n"
     ]
    },
    {
     "name": "stdout",
     "output_type": "stream",
     "text": [
      "Installing collected packages: pycocotools\n",
      "Successfully installed pycocotools-2.0.3\n"
     ]
    }
   ],
   "source": [
    "%cd\n",
    "!git clone https://github.com/tensorflow/models.git\n",
    "\n",
    "!pip install Cython contextlib2 pillow lxml matplotlib PyDrive\n",
    "!pip install pycocotools\n"
   ]
  },
  {
   "cell_type": "markdown",
   "id": "820f7a02",
   "metadata": {},
   "source": []
  },
  {
   "cell_type": "code",
   "execution_count": 12,
   "id": "3b4f0378",
   "metadata": {},
   "outputs": [
    {
     "name": "stdout",
     "output_type": "stream",
     "text": [
      "/home/jun/models/research\n"
     ]
    }
   ],
   "source": [
    "%cd ~/models/research\n",
    "!protoc object_detection/protos/*.proto --python_out=."
   ]
  },
  {
   "cell_type": "code",
   "execution_count": 13,
   "id": "e6fe4851",
   "metadata": {},
   "outputs": [],
   "source": [
    "import os\n",
    "os.environ['PYTHONPATH'] += ':/models/research/:/models/research/slim/'"
   ]
  },
  {
   "cell_type": "code",
   "execution_count": 14,
   "id": "3ea3519d",
   "metadata": {},
   "outputs": [
    {
     "ename": "SyntaxError",
     "evalue": "invalid syntax (<ipython-input-14-d6bbd73bc836>, line 1)",
     "output_type": "error",
     "traceback": [
      "\u001b[0;36m  File \u001b[0;32m\"<ipython-input-14-d6bbd73bc836>\"\u001b[0;36m, line \u001b[0;32m1\u001b[0m\n\u001b[0;31m    python setup.py build\u001b[0m\n\u001b[0m               ^\u001b[0m\n\u001b[0;31mSyntaxError\u001b[0m\u001b[0;31m:\u001b[0m invalid syntax\n"
     ]
    }
   ],
   "source": [
    "python setup.py build"
   ]
  },
  {
   "cell_type": "code",
   "execution_count": 17,
   "id": "ae6f1a41",
   "metadata": {},
   "outputs": [
    {
     "name": "stdout",
     "output_type": "stream",
     "text": [
      "/media/jun/7489891d-6872-431e-88ea-46bb42b4adef/jun/MapData/solar\n"
     ]
    }
   ],
   "source": [
    "%cd /media/jun/7489891d-6872-431e-88ea-46bb42b4adef/jun/MapData/solar\n",
    "!echo \"item { id: 1 name: 'solar'}\" > label_map.pbtxt\n",
    "image_files=os.listdir('images')\n",
    "im_files=[x.split('.')[0] for x in image_files]\n",
    "with open('annotations/trainval.txt', 'w') as text_file:\n",
    "  for row in im_files:\n",
    "    text_file.write(row + '\\n')"
   ]
  },
  {
   "cell_type": "code",
   "execution_count": 20,
   "id": "0a8b9f20",
   "metadata": {},
   "outputs": [
    {
     "name": "stdout",
     "output_type": "stream",
     "text": [
      "/media/jun/7489891d-6872-431e-88ea-46bb42b4adef/jun/MapData/solar/annotations\n"
     ]
    }
   ],
   "source": [
    "%cd /media/jun/7489891d-6872-431e-88ea-46bb42b4adef/jun/MapData/solar/annotations\n",
    "\n",
    "\n",
    "from PIL import Image\n",
    "image = Image.new('RGB', (901, 791))\n",
    "\n",
    "for filename in os.listdir('xmls'):\n",
    "  filename = os.path.splitext(filename)[0]\n",
    "  image.save('trimaps/' + filename + '.png')"
   ]
  },
  {
   "cell_type": "code",
   "execution_count": 21,
   "id": "dd8609d4",
   "metadata": {},
   "outputs": [
    {
     "name": "stdout",
     "output_type": "stream",
     "text": [
      "/media/jun/7489891d-6872-431e-88ea-46bb42b4adef/jun/MapData/solar\n",
      "Traceback (most recent call last):\n",
      "  File \"/home/jun/models/research/object_detection/dataset_tools/create_pet_tf_record.py\", line 42, in <module>\n",
      "    from object_detection.dataset_tools import tf_record_creation_util\n",
      "ModuleNotFoundError: No module named 'object_detection'\n",
      "mv: cannot stat 'pet_faces_train.record-00000-of-00001': No such file or directory\n",
      "mv: cannot stat 'pet_faces_val.record-00000-of-00001': No such file or directory\n"
     ]
    }
   ],
   "source": [
    "%cd /media/jun/7489891d-6872-431e-88ea-46bb42b4adef/jun/MapData/solar\n",
    "\n",
    "!python ~/models/research/object_detection/dataset_tools/create_pet_tf_record.py --label_map_path=label_map.pbtxt --data_dir=. --output_dir=. --num_shards=1\n",
    "\n",
    "!mv pet_faces_train.record-00000-of-00001 tf_train.record\n",
    "\n",
    "!mv pet_faces_val.record-00000-of-00001 tf_val.record"
   ]
  },
  {
   "cell_type": "code",
   "execution_count": null,
   "id": "0f4216bb",
   "metadata": {},
   "outputs": [],
   "source": []
  },
  {
   "cell_type": "code",
   "execution_count": null,
   "id": "e4d73e64",
   "metadata": {},
   "outputs": [],
   "source": []
  },
  {
   "cell_type": "code",
   "execution_count": null,
   "id": "4564a35e",
   "metadata": {},
   "outputs": [],
   "source": []
  },
  {
   "cell_type": "code",
   "execution_count": null,
   "id": "b947d0e3",
   "metadata": {},
   "outputs": [],
   "source": []
  }
 ],
 "metadata": {
  "kernelspec": {
   "display_name": "Python 3 (ipykernel)",
   "language": "python",
   "name": "python3"
  },
  "language_info": {
   "codemirror_mode": {
    "name": "ipython",
    "version": 3
   },
   "file_extension": ".py",
   "mimetype": "text/x-python",
   "name": "python",
   "nbconvert_exporter": "python",
   "pygments_lexer": "ipython3",
   "version": "3.6.13"
  }
 },
 "nbformat": 4,
 "nbformat_minor": 5
}
